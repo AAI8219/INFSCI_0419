{
 "cells": [
  {
   "cell_type": "code",
   "execution_count": 1,
   "metadata": {
    "scrolled": true
   },
   "outputs": [
    {
     "name": "stdout",
     "output_type": "stream",
     "text": [
      "\n",
      "# of null values in each column:\n",
      "date            0\n",
      "meantemp        0\n",
      "humidity        0\n",
      "wind_speed      0\n",
      "meanpressure    0\n",
      "dtype: int64\n",
      "\n",
      "# of rows in the data frame: 1576\n",
      "\n",
      "# of real numbers in each column\n",
      "date               0\n",
      "meantemp        1576\n",
      "humidity        1576\n",
      "wind_speed      1576\n",
      "meanpressure    1576\n",
      "dtype: int64\n"
     ]
    }
   ],
   "source": [
    "import pandas as pd\n",
    "import matplotlib.pyplot as plt\n",
    "from sklearn import preprocessing as prep\n",
    "from sklearn.model_selection import train_test_split\n",
    "\n",
    "test_df = pd.read_csv(\"DailyDelhiClimateTest.csv\")\n",
    "train_df = pd.read_csv(\"DailyDelhiClimateTrain.csv\")\n",
    "\n",
    "#putting the two datasets together\n",
    "df = pd.concat([test_df, train_df])\n",
    "\n",
    "print(\"\\n# of null values in each column:\")\n",
    "print(df.isnull().sum())\n",
    "df_isreal = df.applymap(pd.np.isreal)\n",
    "\n",
    "print(\"\\n# of rows in the data frame: \"+(str(df.shape[0])))\n",
    "\n",
    "print(\"\\n# of real numbers in each column\")\n",
    "print(df_isreal.sum())"
   ]
  },
  {
   "cell_type": "markdown",
   "metadata": {},
   "source": [
    "## Box Plots (looking for outliers)"
   ]
  },
  {
   "cell_type": "code",
   "execution_count": 2,
   "metadata": {},
   "outputs": [
    {
     "data": {
      "text/plain": [
       "<matplotlib.axes._subplots.AxesSubplot at 0x111ecea90>"
      ]
     },
     "execution_count": 2,
     "metadata": {},
     "output_type": "execute_result"
    },
    {
     "data": {
      "image/png": "[encoded data removed]",
      "text/plain": [
       "<Figure size 432x288 with 1 Axes>"
      ]
     },
     "metadata": {
      "needs_background": "light"
     },
     "output_type": "display_data"
    }
   ],
   "source": [
    "df.boxplot(['meantemp'])"
   ]
  },
  {
   "cell_type": "code",
   "execution_count": 3,
   "metadata": {},
   "outputs": [
    {
     "data": {
      "text/plain": [
       "<matplotlib.axes._subplots.AxesSubplot at 0x1114492b0>"
      ]
     },
     "execution_count": 3,
     "metadata": {},
     "output_type": "execute_result"
    },
    {
     "data": {
      "image/png": "[encoded data removed]",
      "text/plain": [
       "<Figure size 432x288 with 1 Axes>"
      ]
     },
     "metadata": {
      "needs_background": "light"
     },
     "output_type": "display_data"
    }
   ],
   "source": [
    "df.boxplot(['humidity'])"
   ]
  },
  {
   "cell_type": "code",
   "execution_count": 4,
   "metadata": {},
   "outputs": [
    {
     "data": {
      "text/plain": [
       "<matplotlib.axes._subplots.AxesSubplot at 0x1a24af5cf8>"
      ]
     },
     "execution_count": 4,
     "metadata": {},
     "output_type": "execute_result"
    },
    {
     "data": {
      "image/png": "[encoded data removed]",
      "text/plain": [
       "<Figure size 432x288 with 1 Axes>"
      ]
     },
     "metadata": {
      "needs_background": "light"
     },
     "output_type": "display_data"
    }
   ],
   "source": [
    "df.boxplot(['wind_speed'])"
   ]
  },
  {
   "cell_type": "code",
   "execution_count": 5,
   "metadata": {},
   "outputs": [
    {
     "data": {
      "text/plain": [
       "<matplotlib.axes._subplots.AxesSubplot at 0x1a24f5ae48>"
      ]
     },
     "execution_count": 5,
     "metadata": {},
     "output_type": "execute_result"
    },
    {
     "data": {
      "image/png": "[encoded data removed]",
      "text/plain": [
       "<Figure size 432x288 with 1 Axes>"
      ]
     },
     "metadata": {
      "needs_background": "light"
     },
     "output_type": "display_data"
    }
   ],
   "source": [
    "df.boxplot([\"meanpressure\"])"
   ]
  },
  {
   "cell_type": "code",
   "execution_count": 6,
   "metadata": {},
   "outputs": [
    {
     "data": {
      "text/html": [
       "<div>\n",
       "<style scoped>\n",
       "    .dataframe tbody tr th:only-of-type {\n",
       "        vertical-align: middle;\n",
       "    }\n",
       "\n",
       "    .dataframe tbody tr th {\n",
       "        vertical-align: top;\n",
       "    }\n",
       "\n",
       "    .dataframe thead th {\n",
       "        text-align: right;\n",
       "    }\n",
       "</style>\n",
       "<table border=\"1\" class=\"dataframe\">\n",
       "  <thead>\n",
       "    <tr style=\"text-align: right;\">\n",
       "      <th></th>\n",
       "      <th>meantemp</th>\n",
       "      <th>humidity</th>\n",
       "      <th>wind_speed</th>\n",
       "      <th>meanpressure</th>\n",
       "    </tr>\n",
       "  </thead>\n",
       "  <tbody>\n",
       "    <tr>\n",
       "      <th>count</th>\n",
       "      <td>1576.000000</td>\n",
       "      <td>1576.000000</td>\n",
       "      <td>1576.000000</td>\n",
       "      <td>1576.000000</td>\n",
       "    </tr>\n",
       "    <tr>\n",
       "      <th>mean</th>\n",
       "      <td>25.221918</td>\n",
       "      <td>60.445229</td>\n",
       "      <td>6.899262</td>\n",
       "      <td>1010.593178</td>\n",
       "    </tr>\n",
       "    <tr>\n",
       "      <th>std</th>\n",
       "      <td>7.345014</td>\n",
       "      <td>16.979994</td>\n",
       "      <td>4.510725</td>\n",
       "      <td>175.242704</td>\n",
       "    </tr>\n",
       "    <tr>\n",
       "      <th>min</th>\n",
       "      <td>6.000000</td>\n",
       "      <td>13.428571</td>\n",
       "      <td>0.000000</td>\n",
       "      <td>-3.041667</td>\n",
       "    </tr>\n",
       "    <tr>\n",
       "      <th>25%</th>\n",
       "      <td>18.500000</td>\n",
       "      <td>49.750000</td>\n",
       "      <td>3.700000</td>\n",
       "      <td>1001.875000</td>\n",
       "    </tr>\n",
       "    <tr>\n",
       "      <th>50%</th>\n",
       "      <td>27.166667</td>\n",
       "      <td>62.440476</td>\n",
       "      <td>6.363571</td>\n",
       "      <td>1009.055556</td>\n",
       "    </tr>\n",
       "    <tr>\n",
       "      <th>75%</th>\n",
       "      <td>31.142857</td>\n",
       "      <td>72.125000</td>\n",
       "      <td>9.262500</td>\n",
       "      <td>1015.200000</td>\n",
       "    </tr>\n",
       "    <tr>\n",
       "      <th>max</th>\n",
       "      <td>38.714286</td>\n",
       "      <td>100.000000</td>\n",
       "      <td>42.220000</td>\n",
       "      <td>7679.333333</td>\n",
       "    </tr>\n",
       "  </tbody>\n",
       "</table>\n",
       "</div>"
      ],
      "text/plain": [
       "          meantemp     humidity   wind_speed  meanpressure\n",
       "count  1576.000000  1576.000000  1576.000000   1576.000000\n",
       "mean     25.221918    60.445229     6.899262   1010.593178\n",
       "std       7.345014    16.979994     4.510725    175.242704\n",
       "min       6.000000    13.428571     0.000000     -3.041667\n",
       "25%      18.500000    49.750000     3.700000   1001.875000\n",
       "50%      27.166667    62.440476     6.363571   1009.055556\n",
       "75%      31.142857    72.125000     9.262500   1015.200000\n",
       "max      38.714286   100.000000    42.220000   7679.333333"
      ]
     },
     "execution_count": 6,
     "metadata": {},
     "output_type": "execute_result"
    }
   ],
   "source": [
    "df.describe()"
   ]
  },
  {
   "cell_type": "markdown",
   "metadata": {},
   "source": [
    "### Looking for the outliers"
   ]
  },
  {
   "cell_type": "code",
   "execution_count": 7,
   "metadata": {},
   "outputs": [
    {
     "data": {
      "text/html": [
       "<div>\n",
       "<style scoped>\n",
       "    .dataframe tbody tr th:only-of-type {\n",
       "        vertical-align: middle;\n",
       "    }\n",
       "\n",
       "    .dataframe tbody tr th {\n",
       "        vertical-align: top;\n",
       "    }\n",
       "\n",
       "    .dataframe thead th {\n",
       "        text-align: right;\n",
       "    }\n",
       "</style>\n",
       "<table border=\"1\" class=\"dataframe\">\n",
       "  <thead>\n",
       "    <tr style=\"text-align: right;\">\n",
       "      <th></th>\n",
       "      <th>date</th>\n",
       "      <th>meantemp</th>\n",
       "      <th>humidity</th>\n",
       "      <th>wind_speed</th>\n",
       "      <th>meanpressure</th>\n",
       "    </tr>\n",
       "  </thead>\n",
       "  <tbody>\n",
       "    <tr>\n",
       "      <th>120</th>\n",
       "      <td>2013-05-01</td>\n",
       "      <td>31.857143</td>\n",
       "      <td>15.857143</td>\n",
       "      <td>12.685714</td>\n",
       "      <td>1002.833333</td>\n",
       "    </tr>\n",
       "    <tr>\n",
       "      <th>856</th>\n",
       "      <td>2015-05-07</td>\n",
       "      <td>35.428571</td>\n",
       "      <td>13.428571</td>\n",
       "      <td>15.342857</td>\n",
       "      <td>1003.571429</td>\n",
       "    </tr>\n",
       "  </tbody>\n",
       "</table>\n",
       "</div>"
      ],
      "text/plain": [
       "           date   meantemp   humidity  wind_speed  meanpressure\n",
       "120  2013-05-01  31.857143  15.857143   12.685714   1002.833333\n",
       "856  2015-05-07  35.428571  13.428571   15.342857   1003.571429"
      ]
     },
     "execution_count": 7,
     "metadata": {},
     "output_type": "execute_result"
    }
   ],
   "source": [
    "df.query(\"humidity < 17\")"
   ]
  },
  {
   "cell_type": "code",
   "execution_count": 8,
   "metadata": {},
   "outputs": [
    {
     "data": {
      "text/html": [
       "<div>\n",
       "<style scoped>\n",
       "    .dataframe tbody tr th:only-of-type {\n",
       "        vertical-align: middle;\n",
       "    }\n",
       "\n",
       "    .dataframe tbody tr th {\n",
       "        vertical-align: top;\n",
       "    }\n",
       "\n",
       "    .dataframe thead th {\n",
       "        text-align: right;\n",
       "    }\n",
       "</style>\n",
       "<table border=\"1\" class=\"dataframe\">\n",
       "  <thead>\n",
       "    <tr style=\"text-align: right;\">\n",
       "      <th></th>\n",
       "      <th>date</th>\n",
       "      <th>meantemp</th>\n",
       "      <th>humidity</th>\n",
       "      <th>wind_speed</th>\n",
       "      <th>meanpressure</th>\n",
       "    </tr>\n",
       "  </thead>\n",
       "  <tbody>\n",
       "    <tr>\n",
       "      <th>0</th>\n",
       "      <td>2017-01-01</td>\n",
       "      <td>15.913043</td>\n",
       "      <td>85.869565</td>\n",
       "      <td>2.743478</td>\n",
       "      <td>59.000000</td>\n",
       "    </tr>\n",
       "    <tr>\n",
       "      <th>1182</th>\n",
       "      <td>2016-03-28</td>\n",
       "      <td>25.933333</td>\n",
       "      <td>52.800000</td>\n",
       "      <td>6.546667</td>\n",
       "      <td>7679.333333</td>\n",
       "    </tr>\n",
       "    <tr>\n",
       "      <th>1255</th>\n",
       "      <td>2016-06-09</td>\n",
       "      <td>35.733333</td>\n",
       "      <td>43.733333</td>\n",
       "      <td>9.260000</td>\n",
       "      <td>938.066667</td>\n",
       "    </tr>\n",
       "    <tr>\n",
       "      <th>1300</th>\n",
       "      <td>2016-07-24</td>\n",
       "      <td>31.437500</td>\n",
       "      <td>72.250000</td>\n",
       "      <td>2.431250</td>\n",
       "      <td>946.312500</td>\n",
       "    </tr>\n",
       "    <tr>\n",
       "      <th>1309</th>\n",
       "      <td>2016-08-02</td>\n",
       "      <td>30.687500</td>\n",
       "      <td>72.125000</td>\n",
       "      <td>6.375000</td>\n",
       "      <td>310.437500</td>\n",
       "    </tr>\n",
       "    <tr>\n",
       "      <th>1321</th>\n",
       "      <td>2016-08-14</td>\n",
       "      <td>28.933333</td>\n",
       "      <td>83.700000</td>\n",
       "      <td>6.370000</td>\n",
       "      <td>633.900000</td>\n",
       "    </tr>\n",
       "    <tr>\n",
       "      <th>1323</th>\n",
       "      <td>2016-08-16</td>\n",
       "      <td>31.333333</td>\n",
       "      <td>66.416667</td>\n",
       "      <td>14.666667</td>\n",
       "      <td>-3.041667</td>\n",
       "    </tr>\n",
       "    <tr>\n",
       "      <th>1362</th>\n",
       "      <td>2016-09-24</td>\n",
       "      <td>31.240000</td>\n",
       "      <td>66.480000</td>\n",
       "      <td>5.496154</td>\n",
       "      <td>1352.615385</td>\n",
       "    </tr>\n",
       "    <tr>\n",
       "      <th>1416</th>\n",
       "      <td>2016-11-17</td>\n",
       "      <td>21.730769</td>\n",
       "      <td>51.730769</td>\n",
       "      <td>11.550000</td>\n",
       "      <td>1350.296296</td>\n",
       "    </tr>\n",
       "    <tr>\n",
       "      <th>1427</th>\n",
       "      <td>2016-11-28</td>\n",
       "      <td>22.454545</td>\n",
       "      <td>37.318182</td>\n",
       "      <td>9.185714</td>\n",
       "      <td>12.045455</td>\n",
       "    </tr>\n",
       "  </tbody>\n",
       "</table>\n",
       "</div>"
      ],
      "text/plain": [
       "            date   meantemp   humidity  wind_speed  meanpressure\n",
       "0     2017-01-01  15.913043  85.869565    2.743478     59.000000\n",
       "1182  2016-03-28  25.933333  52.800000    6.546667   7679.333333\n",
       "1255  2016-06-09  35.733333  43.733333    9.260000    938.066667\n",
       "1300  2016-07-24  31.437500  72.250000    2.431250    946.312500\n",
       "1309  2016-08-02  30.687500  72.125000    6.375000    310.437500\n",
       "1321  2016-08-14  28.933333  83.700000    6.370000    633.900000\n",
       "1323  2016-08-16  31.333333  66.416667   14.666667     -3.041667\n",
       "1362  2016-09-24  31.240000  66.480000    5.496154   1352.615385\n",
       "1416  2016-11-17  21.730769  51.730769   11.550000   1350.296296\n",
       "1427  2016-11-28  22.454545  37.318182    9.185714     12.045455"
      ]
     },
     "execution_count": 8,
     "metadata": {},
     "output_type": "execute_result"
    }
   ],
   "source": [
    "df.query(\"meanpressure > 1200 or meanpressure < 960\")"
   ]
  },
  {
   "cell_type": "code",
   "execution_count": 9,
   "metadata": {},
   "outputs": [
    {
     "data": {
      "text/html": [
       "<div>\n",
       "<style scoped>\n",
       "    .dataframe tbody tr th:only-of-type {\n",
       "        vertical-align: middle;\n",
       "    }\n",
       "\n",
       "    .dataframe tbody tr th {\n",
       "        vertical-align: top;\n",
       "    }\n",
       "\n",
       "    .dataframe thead th {\n",
       "        text-align: right;\n",
       "    }\n",
       "</style>\n",
       "<table border=\"1\" class=\"dataframe\">\n",
       "  <thead>\n",
       "    <tr style=\"text-align: right;\">\n",
       "      <th></th>\n",
       "      <th>date</th>\n",
       "      <th>meantemp</th>\n",
       "      <th>humidity</th>\n",
       "      <th>wind_speed</th>\n",
       "      <th>meanpressure</th>\n",
       "    </tr>\n",
       "  </thead>\n",
       "  <tbody>\n",
       "    <tr>\n",
       "      <th>59</th>\n",
       "      <td>2013-03-01</td>\n",
       "      <td>17.333333</td>\n",
       "      <td>49.333333</td>\n",
       "      <td>24.066667</td>\n",
       "      <td>1016.333333</td>\n",
       "    </tr>\n",
       "    <tr>\n",
       "      <th>251</th>\n",
       "      <td>2013-09-09</td>\n",
       "      <td>31.000000</td>\n",
       "      <td>57.500000</td>\n",
       "      <td>42.220000</td>\n",
       "      <td>1007.000000</td>\n",
       "    </tr>\n",
       "    <tr>\n",
       "      <th>358</th>\n",
       "      <td>2013-12-25</td>\n",
       "      <td>13.666667</td>\n",
       "      <td>63.166667</td>\n",
       "      <td>34.487500</td>\n",
       "      <td>1020.625000</td>\n",
       "    </tr>\n",
       "    <tr>\n",
       "      <th>370</th>\n",
       "      <td>2014-01-06</td>\n",
       "      <td>11.428571</td>\n",
       "      <td>86.285714</td>\n",
       "      <td>27.337500</td>\n",
       "      <td>1017.625000</td>\n",
       "    </tr>\n",
       "    <tr>\n",
       "      <th>371</th>\n",
       "      <td>2014-01-07</td>\n",
       "      <td>12.142857</td>\n",
       "      <td>72.285714</td>\n",
       "      <td>20.600000</td>\n",
       "      <td>1017.750000</td>\n",
       "    </tr>\n",
       "    <tr>\n",
       "      <th>527</th>\n",
       "      <td>2014-06-12</td>\n",
       "      <td>32.875000</td>\n",
       "      <td>39.250000</td>\n",
       "      <td>24.325000</td>\n",
       "      <td>997.000000</td>\n",
       "    </tr>\n",
       "    <tr>\n",
       "      <th>589</th>\n",
       "      <td>2014-08-13</td>\n",
       "      <td>32.125000</td>\n",
       "      <td>57.714286</td>\n",
       "      <td>20.825000</td>\n",
       "      <td>998.250000</td>\n",
       "    </tr>\n",
       "    <tr>\n",
       "      <th>630</th>\n",
       "      <td>2014-09-23</td>\n",
       "      <td>31.000000</td>\n",
       "      <td>47.000000</td>\n",
       "      <td>30.685714</td>\n",
       "      <td>1004.285714</td>\n",
       "    </tr>\n",
       "    <tr>\n",
       "      <th>654</th>\n",
       "      <td>2014-10-17</td>\n",
       "      <td>25.000000</td>\n",
       "      <td>47.666667</td>\n",
       "      <td>25.012500</td>\n",
       "      <td>1013.625000</td>\n",
       "    </tr>\n",
       "    <tr>\n",
       "      <th>655</th>\n",
       "      <td>2014-10-18</td>\n",
       "      <td>24.000000</td>\n",
       "      <td>56.142857</td>\n",
       "      <td>21.300000</td>\n",
       "      <td>1012.875000</td>\n",
       "    </tr>\n",
       "    <tr>\n",
       "      <th>757</th>\n",
       "      <td>2015-01-28</td>\n",
       "      <td>11.714286</td>\n",
       "      <td>67.000000</td>\n",
       "      <td>27.775000</td>\n",
       "      <td>1018.250000</td>\n",
       "    </tr>\n",
       "    <tr>\n",
       "      <th>960</th>\n",
       "      <td>2015-08-19</td>\n",
       "      <td>31.250000</td>\n",
       "      <td>61.250000</td>\n",
       "      <td>33.325000</td>\n",
       "      <td>1002.375000</td>\n",
       "    </tr>\n",
       "    <tr>\n",
       "      <th>1176</th>\n",
       "      <td>2016-03-22</td>\n",
       "      <td>25.062500</td>\n",
       "      <td>37.875000</td>\n",
       "      <td>22.100000</td>\n",
       "      <td>1009.375000</td>\n",
       "    </tr>\n",
       "    <tr>\n",
       "      <th>1253</th>\n",
       "      <td>2016-06-07</td>\n",
       "      <td>34.625000</td>\n",
       "      <td>59.187500</td>\n",
       "      <td>21.306250</td>\n",
       "      <td>1002.062500</td>\n",
       "    </tr>\n",
       "  </tbody>\n",
       "</table>\n",
       "</div>"
      ],
      "text/plain": [
       "            date   meantemp   humidity  wind_speed  meanpressure\n",
       "59    2013-03-01  17.333333  49.333333   24.066667   1016.333333\n",
       "251   2013-09-09  31.000000  57.500000   42.220000   1007.000000\n",
       "358   2013-12-25  13.666667  63.166667   34.487500   1020.625000\n",
       "370   2014-01-06  11.428571  86.285714   27.337500   1017.625000\n",
       "371   2014-01-07  12.142857  72.285714   20.600000   1017.750000\n",
       "527   2014-06-12  32.875000  39.250000   24.325000    997.000000\n",
       "589   2014-08-13  32.125000  57.714286   20.825000    998.250000\n",
       "630   2014-09-23  31.000000  47.000000   30.685714   1004.285714\n",
       "654   2014-10-17  25.000000  47.666667   25.012500   1013.625000\n",
       "655   2014-10-18  24.000000  56.142857   21.300000   1012.875000\n",
       "757   2015-01-28  11.714286  67.000000   27.775000   1018.250000\n",
       "960   2015-08-19  31.250000  61.250000   33.325000   1002.375000\n",
       "1176  2016-03-22  25.062500  37.875000   22.100000   1009.375000\n",
       "1253  2016-06-07  34.625000  59.187500   21.306250   1002.062500"
      ]
     },
     "execution_count": 9,
     "metadata": {},
     "output_type": "execute_result"
    }
   ],
   "source": [
    "df.query(\"wind_speed > 20\")"
   ]
  },
  {
   "cell_type": "markdown",
   "metadata": {},
   "source": [
    "### Dropping meanpressure's outliers"
   ]
  },
  {
   "cell_type": "code",
   "execution_count": 10,
   "metadata": {},
   "outputs": [],
   "source": [
    "df1 = df.drop([1182, 1323, 1427, 1321, 1309, 0, 1416, 1362, 1255, 1300])"
   ]
  },
  {
   "cell_type": "code",
   "execution_count": 11,
   "metadata": {},
   "outputs": [
    {
     "data": {
      "text/html": [
       "<div>\n",
       "<style scoped>\n",
       "    .dataframe tbody tr th:only-of-type {\n",
       "        vertical-align: middle;\n",
       "    }\n",
       "\n",
       "    .dataframe tbody tr th {\n",
       "        vertical-align: top;\n",
       "    }\n",
       "\n",
       "    .dataframe thead th {\n",
       "        text-align: right;\n",
       "    }\n",
       "</style>\n",
       "<table border=\"1\" class=\"dataframe\">\n",
       "  <thead>\n",
       "    <tr style=\"text-align: right;\">\n",
       "      <th></th>\n",
       "      <th>meantemp</th>\n",
       "      <th>humidity</th>\n",
       "      <th>wind_speed</th>\n",
       "      <th>meanpressure</th>\n",
       "    </tr>\n",
       "  </thead>\n",
       "  <tbody>\n",
       "    <tr>\n",
       "      <th>meantemp</th>\n",
       "      <td>1.000000</td>\n",
       "      <td>-0.576848</td>\n",
       "      <td>0.287002</td>\n",
       "      <td>-0.880832</td>\n",
       "    </tr>\n",
       "    <tr>\n",
       "      <th>humidity</th>\n",
       "      <td>-0.576848</td>\n",
       "      <td>1.000000</td>\n",
       "      <td>-0.372298</td>\n",
       "      <td>0.343049</td>\n",
       "    </tr>\n",
       "    <tr>\n",
       "      <th>wind_speed</th>\n",
       "      <td>0.287002</td>\n",
       "      <td>-0.372298</td>\n",
       "      <td>1.000000</td>\n",
       "      <td>-0.273489</td>\n",
       "    </tr>\n",
       "    <tr>\n",
       "      <th>meanpressure</th>\n",
       "      <td>-0.880832</td>\n",
       "      <td>0.343049</td>\n",
       "      <td>-0.273489</td>\n",
       "      <td>1.000000</td>\n",
       "    </tr>\n",
       "  </tbody>\n",
       "</table>\n",
       "</div>"
      ],
      "text/plain": [
       "              meantemp  humidity  wind_speed  meanpressure\n",
       "meantemp      1.000000 -0.576848    0.287002     -0.880832\n",
       "humidity     -0.576848  1.000000   -0.372298      0.343049\n",
       "wind_speed    0.287002 -0.372298    1.000000     -0.273489\n",
       "meanpressure -0.880832  0.343049   -0.273489      1.000000"
      ]
     },
     "execution_count": 11,
     "metadata": {},
     "output_type": "execute_result"
    }
   ],
   "source": [
    "df1.corr()"
   ]
  },
  {
   "cell_type": "markdown",
   "metadata": {},
   "source": [
    "Dropping the outliers for meanpressure increased its correlation to all other variables significantly. So we decided to drop the values that were siginficantly away from boxplot. Dropping the outliers of humidity did not affect the correlation, so we decided against. We decided againt dropping wind values because their realistic varibaility in win speed depending on things like storms, etc."
   ]
  },
  {
   "cell_type": "markdown",
   "metadata": {},
   "source": [
    "### Density Plots"
   ]
  },
  {
   "cell_type": "code",
   "execution_count": 12,
   "metadata": {},
   "outputs": [
    {
     "data": {
      "text/plain": [
       "<matplotlib.axes._subplots.AxesSubplot at 0x1a2501ffd0>"
      ]
     },
     "execution_count": 12,
     "metadata": {},
     "output_type": "execute_result"
    },
    {
     "data": {
      "image/png": "[encoded data removed]",
      "text/plain": [
       "<Figure size 432x288 with 1 Axes>"
      ]
     },
     "metadata": {
      "needs_background": "light"
     },
     "output_type": "display_data"
    }
   ],
   "source": [
    "df1['meantemp'].plot.kde()"
   ]
  },
  {
   "cell_type": "code",
   "execution_count": 13,
   "metadata": {},
   "outputs": [
    {
     "data": {
      "text/plain": [
       "<matplotlib.axes._subplots.AxesSubplot at 0x1a250fc668>"
      ]
     },
     "execution_count": 13,
     "metadata": {},
     "output_type": "execute_result"
    },
    {
     "data": {
      "image/png": "[encoded data removed]",
      "text/plain": [
       "<Figure size 432x288 with 1 Axes>"
      ]
     },
     "metadata": {
      "needs_background": "light"
     },
     "output_type": "display_data"
    }
   ],
   "source": [
    "df1['humidity'].plot.kde()"
   ]
  },
  {
   "cell_type": "code",
   "execution_count": 14,
   "metadata": {},
   "outputs": [
    {
     "data": {
      "text/plain": [
       "<matplotlib.axes._subplots.AxesSubplot at 0x1a25242cc0>"
      ]
     },
     "execution_count": 14,
     "metadata": {},
     "output_type": "execute_result"
    },
    {
     "data": {
      "image/png": "[encoded data removed]",
      "text/plain": [
       "<Figure size 432x288 with 1 Axes>"
      ]
     },
     "metadata": {
      "needs_background": "light"
     },
     "output_type": "display_data"
    }
   ],
   "source": [
    "df['wind_speed'].plot.kde()"
   ]
  },
  {
   "cell_type": "code",
   "execution_count": 15,
   "metadata": {},
   "outputs": [
    {
     "data": {
      "text/plain": [
       "<matplotlib.axes._subplots.AxesSubplot at 0x1a25299f60>"
      ]
     },
     "execution_count": 15,
     "metadata": {},
     "output_type": "execute_result"
    },
    {
     "data": {
      "image/png": "[encoded data removed]",
      "text/plain": [
       "<Figure size 432x288 with 1 Axes>"
      ]
     },
     "metadata": {
      "needs_background": "light"
     },
     "output_type": "display_data"
    }
   ],
   "source": [
    "df1['meanpressure'].plot.kde()"
   ]
  },
  {
   "cell_type": "markdown",
   "metadata": {},
   "source": [
    "### Normalizing age datas by using the min/max scalar. "
   ]
  },
  {
   "cell_type": "code",
   "execution_count": 16,
   "metadata": {},
   "outputs": [],
   "source": [
    "\n",
    "df_num = df1[['meantemp', 'humidity', 'wind_speed', 'meanpressure']].values.astype(float)\n",
    "min_max_scaler = prep.MinMaxScaler()\n",
    "x_scaled = min_max_scaler.fit_transform(df_num)\n",
    "normalized = pd.DataFrame(x_scaled)"
   ]
  },
  {
   "cell_type": "code",
   "execution_count": 17,
   "metadata": {},
   "outputs": [
    {
     "data": {
      "text/plain": [
       "array([[<matplotlib.axes._subplots.AxesSubplot object at 0x1a25299940>,\n",
       "        <matplotlib.axes._subplots.AxesSubplot object at 0x1a253de198>],\n",
       "       [<matplotlib.axes._subplots.AxesSubplot object at 0x1a2540f748>,\n",
       "        <matplotlib.axes._subplots.AxesSubplot object at 0x1a25440cf8>]],\n",
       "      dtype=object)"
      ]
     },
     "execution_count": 17,
     "metadata": {},
     "output_type": "execute_result"
    },
    {
     "data": {
      "image/png": "[encoded data removed]",
      "text/plain": [
       "<Figure size 432x288 with 4 Axes>"
      ]
     },
     "metadata": {
      "needs_background": "light"
     },
     "output_type": "display_data"
    }
   ],
   "source": [
    "normalized.hist(bins=50)"
   ]
  },
  {
   "cell_type": "markdown",
   "metadata": {},
   "source": [
    "Data has been put on a min-max scalar."
   ]
  },
  {
   "cell_type": "code",
   "execution_count": 18,
   "metadata": {},
   "outputs": [],
   "source": [
    "#renaming the columns\n",
    "names = ['meantemp', 'wind_speed', 'humidity','mean_pressure']\n",
    "normalized.columns = names"
   ]
  },
  {
   "cell_type": "markdown",
   "metadata": {},
   "source": [
    "## Creating 3 models w/ different parameters and testing them. "
   ]
  },
  {
   "cell_type": "code",
   "execution_count": 55,
   "metadata": {},
   "outputs": [
    {
     "name": "stdout",
     "output_type": "stream",
     "text": [
      "Coeff. wind_speed is -0.3712333926687932\n",
      "Coeff. humidity is -0.1154024363089267\n",
      "Coeff. mean_pressure is -0.7594498976126792\n",
      "The intercept for model 1 is 1.2183552157972277\n",
      "\n",
      "R^2 is 0.8472686899850255\n",
      "RMSE is 0.007308941146797836\n"
     ]
    }
   ],
   "source": [
    "x = normalized[['wind_speed', 'humidity','mean_pressure']]\n",
    "y = normalized[['meantemp']]\n",
    "\n",
    "X_train, X_test, y_train, y_test = train_test_split(x, y, test_size=0.20, random_state=1)\n",
    "\n",
    "from sklearn.linear_model import LinearRegression\n",
    "model1 = LinearRegression()\n",
    "model1.fit(X_train, y_train)\n",
    "\n",
    "for num, col in enumerate(X_train.columns):\n",
    "    print(\"Coeff. \" +col+ \" is \" + str(model1.coef_[0][num]))\n",
    "\n",
    "intercept = model1.intercept_[0]\n",
    "print(\"The intercept for model 1 is {}\".format(intercept))\n",
    "\n",
    "print(\"\\nR^2 is \" +str(model1.score(X_test, y_test)))\n",
    "\n",
    "from sklearn.metrics import mean_squared_error\n",
    "\n",
    "y_predict = model1.predict(X_test)\n",
    "\n",
    "regression_model_mse = mean_squared_error(y_predict, y_test)\n",
    "\n",
    "print(\"RMSE is \" +str(regression_model_mse))"
   ]
  },
  {
   "cell_type": "code",
   "execution_count": 53,
   "metadata": {},
   "outputs": [
    {
     "name": "stdout",
     "output_type": "stream",
     "text": [
      "Coeff. humidity is 0.07823117536263889\n",
      "Coeff. mean_pressure is -0.8405152295029488\n",
      "The intercept for model 2 is 1.028313957086047\n",
      "\n",
      "R^2 is 0.758289408368042\n",
      "RMSE is 0.01156703552547578\n"
     ]
    }
   ],
   "source": [
    "x = normalized[['humidity','mean_pressure']]\n",
    "y = normalized[['meantemp']]\n",
    "\n",
    "X_train, X_test, y_train, y_test = train_test_split(x, y, test_size=0.20, random_state=1)\n",
    "\n",
    "from sklearn.linear_model import LinearRegression\n",
    "model2 = LinearRegression()\n",
    "model2.fit(X_train, y_train)\n",
    "\n",
    "for num, col in enumerate(X_train.columns):\n",
    "    print(\"Coeff. \" +col+ \" is \" + str(model1.coef_[0][num]))\n",
    "\n",
    "intercept = model2.intercept_[0]\n",
    "print(\"The intercept for model 2 is {}\".format(intercept))\n",
    "\n",
    "print(\"\\nR^2 is \" +str(model1.score(X_test, y_test)))\n",
    "\n",
    "from sklearn.metrics import mean_squared_error\n",
    "\n",
    "y_predict = model2.predict(X_test)\n",
    "\n",
    "regression_model_mse = mean_squared_error(y_predict, y_test)\n",
    "\n",
    "print(\"RMSE is \" +str(regression_model_mse))"
   ]
  },
  {
   "cell_type": "code",
   "execution_count": 52,
   "metadata": {},
   "outputs": [
    {
     "name": "stdout",
     "output_type": "stream",
     "text": [
      "Coeff. mean_pressure is 0.07823117536263889\n",
      "Coeff. wind_speed is -0.8405152295029488\n",
      "The intercept for model 2 is 1.184444821463554\n",
      "\n",
      "R^2 is 0.25051724264992703\n",
      "RMSE is 0.007273857818844148\n"
     ]
    }
   ],
   "source": [
    "x = normalized[['mean_pressure', \"wind_speed\"]]\n",
    "y = normalized[['meantemp']]\n",
    "\n",
    "X_train, X_test, y_train, y_test = train_test_split(x, y, test_size=0.20, random_state=1)\n",
    "\n",
    "from sklearn.linear_model import LinearRegression\n",
    "model2 = LinearRegression()\n",
    "model2.fit(X_train, y_train)\n",
    "\n",
    "for num, col in enumerate(X_train.columns):\n",
    "    print(\"Coeff. \" +col+ \" is \" + str(model1.coef_[0][num]))\n",
    "\n",
    "intercept = model2.intercept_[0]\n",
    "print(\"The intercept for model 2 is {}\".format(intercept))\n",
    "\n",
    "print(\"\\nR^2 is \" +str(model1.score(X_test, y_test)))\n",
    "\n",
    "from sklearn.metrics import mean_squared_error\n",
    "\n",
    "y_predict = model2.predict(X_test)\n",
    "\n",
    "regression_model_mse = mean_squared_error(y_predict, y_test)\n",
    "\n",
    "print(\"RMSE is \" +str(regression_model_mse))"
   ]
  },
  {
   "cell_type": "markdown",
   "metadata": {},
   "source": [
    "Model 1 was the best model to predict mean tempertures. Model 1 used all parametes w/ mean_pressure havings its outliers eliminated. The model was good. The RMSE is significantly low and the R^2 value or accuracy score was very close to 1. However maybe using 3 varibales may have RMSE and R^2 values inflated.  "
   ]
  },
  {
   "cell_type": "code",
   "execution_count": null,
   "metadata": {},
   "outputs": [],
   "source": []
  }
 ],
 "metadata": {
  "kernelspec": {
   "display_name": "Python 3",
   "language": "python",
   "name": "python3"
  },
  "language_info": {
   "codemirror_mode": {
    "name": "ipython",
    "version": 3
   },
   "file_extension": ".py",
   "mimetype": "text/x-python",
   "name": "python",
   "nbconvert_exporter": "python",
   "pygments_lexer": "ipython3",
   "version": "3.7.3"
  }
 },
 "nbformat": 4,
 "nbformat_minor": 2
}
